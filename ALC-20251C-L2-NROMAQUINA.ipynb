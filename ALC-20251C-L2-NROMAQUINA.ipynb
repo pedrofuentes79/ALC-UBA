{
 "cells": [
  {
   "cell_type": "markdown",
   "metadata": {},
   "source": [
    "## Aritmética de punto flotante\n",
    "\n",
    "Link a conversor __[IEEE 754 precisión simple](https://www.h-schmidt.net/FloatConverter/IEEE754.html)__"
   ]
  },
  {
   "cell_type": "markdown",
   "metadata": {},
   "source": [
    "_El objetivo de este notebook es acercar a la práctica lo visto en las diapositivas del laboratorio, e ir calentando las aguas para los desafíos que vendran. Usenla en combinación con las diapositivas._"
   ]
  },
  {
   "cell_type": "markdown",
   "metadata": {},
   "source": [
    "## Una inocente suma"
   ]
  },
  {
   "cell_type": "markdown",
   "metadata": {},
   "source": [
    "Si hacemos 0.2 + 0.3 en la computadora, esperamos encontrar 0.5 como resultado, ¿pero qué está pasando realmente de fondo? Exploremos más esta operación."
   ]
  },
  {
   "cell_type": "code",
   "execution_count": 1,
   "metadata": {
    "scrolled": true
   },
   "outputs": [
    {
     "data": {
      "text/plain": [
       "0.55"
      ]
     },
     "execution_count": 1,
     "metadata": {},
     "output_type": "execute_result"
    }
   ],
   "source": [
    "0.25 + 0.3 # El resultado es acorde a lo esperado"
   ]
  },
  {
   "cell_type": "code",
   "execution_count": 2,
   "metadata": {},
   "outputs": [
    {
     "name": "stdout",
     "output_type": "stream",
     "text": [
      "0.3\n"
     ]
    }
   ],
   "source": [
    "x = 0.3 # Si pedimos que se imprima el valor no se observa nada raro.\n",
    "print(x)"
   ]
  },
  {
   "cell_type": "markdown",
   "metadata": {},
   "source": [
    "Sin embargo, si calculamos la diferencia entre ambos (que debería da 0.1), algo \"inesperado\" ocurre:"
   ]
  },
  {
   "cell_type": "code",
   "execution_count": 3,
   "metadata": {},
   "outputs": [
    {
     "data": {
      "text/plain": [
       "0.04999999999999999"
      ]
     },
     "execution_count": 3,
     "metadata": {},
     "output_type": "execute_result"
    }
   ],
   "source": [
    "0.3 - 0.25 # El resultado es CASI 0.0.05"
   ]
  },
  {
   "cell_type": "markdown",
   "metadata": {},
   "source": [
    "_Para pensar_: \n",
    "- Escriba el número 0.25 en base 2. ¿Cómo queda expresado en términos de su mantisa y exponente?\n",
    "- Escriba el número 0.3 en base 2. ¿Qué dificultades aparecen al escribir 0.3 en binario? ¿Se puede escribir exactamente con una mantisa finita?"
   ]
  },
  {
   "cell_type": "markdown",
   "metadata": {},
   "source": [
    "1) 0.25 es 2^(-2) = 1/4. \n",
    "2) Por que es infinita la mantisa? Es un numero periodico finito en base 2. "
   ]
  },
  {
   "cell_type": "markdown",
   "metadata": {},
   "source": [
    "Otro ejemplo:\n",
    "\n",
    "- ¿Cuánto da $(\\sqrt{2})^2 - 2$? Simbólicamente sabemos que el resultado es 0, pero...\n"
   ]
  },
  {
   "cell_type": "code",
   "execution_count": 4,
   "metadata": {},
   "outputs": [
    {
     "data": {
      "text/plain": [
       "np.float64(4.440892098500626e-16)"
      ]
     },
     "execution_count": 4,
     "metadata": {},
     "output_type": "execute_result"
    }
   ],
   "source": [
    "import numpy as np\n",
    "np.sqrt(2)**2-2 "
   ]
  },
  {
   "cell_type": "markdown",
   "metadata": {},
   "source": [
    "_Para pensar_: ¿cuántos errores de redondeo se comenten al realizar la operación anterior? ¿Qué operaciones generan el error?"
   ]
  },
  {
   "cell_type": "markdown",
   "metadata": {},
   "source": [
    "El redondeo sucede, primero en tomar la raiz cuadrada. Luego, se eleva ese numero al cuadrado, que, como redondeamos antes, no va a dar 2 exactamente, va a dar un poco mas o un poco menos. Luego, restarle 2 tambien introduce errores de redondeo, ya que para restar 2 tenemos que representarlo como punto flotante, haciendo que terminemos restando algo levemente distinto de 2."
   ]
  },
  {
   "cell_type": "markdown",
   "metadata": {},
   "source": [
    "Un ejemplo más:\n",
    "\n",
    "- ¿Cuál es el límite cuando $n \\rightarrow \\infty$ de esta sucesión?\n",
    "$$\n",
    "\\begin{aligned}\n",
    "x_1 &= \\sqrt{2} \\\\\n",
    "x_{n+1} &= \\frac{x_n \\cdot x_n}{\\sqrt{2}}\n",
    "\\end{aligned}\n",
    "$$\n",
    "\n",
    "Algebráicamente podemos calcular:\n",
    "\n",
    "$x_1 = \\sqrt{2}$, $x_2 = \\frac{x_1 \\cdot x_1}{\\sqrt{2}} = \\frac{2}{\\sqrt{2}} = \\sqrt{2} = x_1$,\n",
    "\n",
    "con lo cual podemos concluir que la serie converge en el primer paso, ya que necesariamente será $x_3=x_2=x_1$, etc.\n",
    "\n",
    "Si lo calculamos con la máquina:"
   ]
  },
  {
   "cell_type": "code",
   "execution_count": 5,
   "metadata": {},
   "outputs": [
    {
     "name": "stdout",
     "output_type": "stream",
     "text": [
      "1.4142135623730951\n",
      "inf\n"
     ]
    },
    {
     "name": "stderr",
     "output_type": "stream",
     "text": [
      "/var/folders/0p/nzkrm49j2pj3s7g4_lftpj4c0000gn/T/ipykernel_2268/4215209067.py:5: RuntimeWarning: overflow encountered in scalar multiply\n",
      "  x = (x * x) / np.sqrt(2)\n"
     ]
    }
   ],
   "source": [
    "x = np.sqrt(2)\n",
    "print(x)\n",
    "l = [x]\n",
    "for i in range(100):\n",
    "    x = (x * x) / np.sqrt(2)\n",
    "    l.append(x)\n",
    "print(x)"
   ]
  },
  {
   "cell_type": "code",
   "execution_count": 6,
   "metadata": {},
   "outputs": [
    {
     "data": {
      "text/plain": [
       "Text(0, 0.5, 'Elemento de la sucesión, $x_i$')"
      ]
     },
     "execution_count": 6,
     "metadata": {},
     "output_type": "execute_result"
    },
    {
     "data": {
      "image/png": "[encoded data removed]",
      "text/plain": [
       "<Figure size 640x480 with 1 Axes>"
      ]
     },
     "metadata": {},
     "output_type": "display_data"
    }
   ],
   "source": [
    "# Si visualizamos la sucesión:\n",
    "import matplotlib.pyplot as plt\n",
    "plt.plot(l[:50],marker='.') # Visualizamos los primeros 50 para poder observar el comportamiento\n",
    "plt.xlabel('Paso de la sucesión, $i$')\n",
    "plt.ylabel('Elemento de la sucesión, $x_i$')"
   ]
  },
  {
   "cell_type": "markdown",
   "metadata": {},
   "source": [
    "Pueden ver como desde el paso $40$ el error empieza volverse visible y se dispara muy rápidamente."
   ]
  },
  {
   "cell_type": "code",
   "execution_count": 7,
   "metadata": {},
   "outputs": [
    {
     "data": {
      "text/plain": [
       "np.float64(1.4142135623730951e-05)"
      ]
     },
     "execution_count": 7,
     "metadata": {},
     "output_type": "execute_result"
    }
   ],
   "source": [
    "np.sqrt(2)/100000 # Preguntar para qué está"
   ]
  },
  {
   "cell_type": "markdown",
   "metadata": {},
   "source": [
    "Vemos que al dividir por 10^5, el resultado pasa a ser la misma raiz de dos, pero con su exponente a la -5."
   ]
  },
  {
   "cell_type": "code",
   "execution_count": 8,
   "metadata": {},
   "outputs": [
    {
     "data": {
      "text/plain": [
       "0.001"
      ]
     },
     "execution_count": 8,
     "metadata": {},
     "output_type": "execute_result"
    }
   ],
   "source": [
    "10.0**(-3) # Preguntar para qué está"
   ]
  },
  {
   "cell_type": "markdown",
   "metadata": {},
   "source": []
  },
  {
   "cell_type": "markdown",
   "metadata": {},
   "source": [
    "## Acumulación de errores"
   ]
  },
  {
   "cell_type": "markdown",
   "metadata": {},
   "source": [
    "1. Se quiere calcular \n",
    "$$\n",
    "\\sum_{i=1}^{10^n} \\frac{1}{i} \\quad y \\quad \\sum_{i=1}^{5\\cdot10^n} \\frac{1}{i} \n",
    "$$ \n",
    "usando aritmética de simple precisión (`float32`). Ejecutar los siguientes programas e interpretar los resultados, observando en particular el resultado para $n=6$ y $n=7$. ¿Qué está ocurriendo?"
   ]
  },
  {
   "cell_type": "code",
   "execution_count": 33,
   "metadata": {},
   "outputs": [
    {
     "name": "stdout",
     "output_type": "stream",
     "text": [
      "suma =  14.357358\n",
      "suma =  15.403683\n"
     ]
    }
   ],
   "source": [
    "import numpy as np\n",
    "\n",
    "n = 6\n",
    "s = np.float32(0)\n",
    "for i in range(1,10**n+1):\n",
    "    s = s + np.float32(1/i)\n",
    "print(\"suma = \", s)\n",
    "\n",
    "s = np.float32(0)\n",
    "for i in range(1,5*10**n+1):\n",
    "    s = s + np.float32(1/i)\n",
    "print(\"suma = \", s)\n"
   ]
  },
  {
   "cell_type": "markdown",
   "metadata": {},
   "source": [
    "A partir de cierto punto, los valores se vuelven demasiado pequeños para que la suma cambie. Por eso el numero termina siendo el mismo a partir de n=7"
   ]
  },
  {
   "cell_type": "markdown",
   "metadata": {},
   "source": [
    "_Algunas preguntas guía_:\n",
    "- ¿Cuánto vale $1/i$ en precisión simple cuando $i=2\\cdot 10^7$?\n",
    "\n",
    "    - Vale $2^{-1} \\cdot 10^{-7} \\approx $\n",
    "\n",
    "- Si escribimos $1/10^7$ usando el mismo exponente que el necesario para representar a $\\sum^{5\\cdot 10^6}_{i=1} 1/i$, ¿a cuánto equivale $1/i$?"
   ]
  },
  {
   "cell_type": "markdown",
   "metadata": {},
   "source": [
    "- ¿Qué modificación podría hacerse para reducir los errores numéricos?\n",
    "\n",
    "    - Sumas parciales, asi no se arrastra el mismo exponente (??)\n",
    "    - Aumentar el tamaño de la precision."
   ]
  },
  {
   "cell_type": "code",
   "execution_count": 34,
   "metadata": {},
   "outputs": [
    {
     "name": "stdout",
     "output_type": "stream",
     "text": [
      "suma =  15.086579\n"
     ]
    }
   ],
   "source": [
    "# Si invertimos el orden de la sumatoria, el nuevo sumando tiene un orden similar al de la sumatoria previa\n",
    "s = np.float32(0)\n",
    "for i in range(2*10**n,0,-1):\n",
    "    s = s + np.float32(1/i)\n",
    "print(\"suma = \", s)"
   ]
  },
  {
   "cell_type": "markdown",
   "metadata": {},
   "source": [
    "2. Utilizar las mismas estrategias para estimar $e$ mediante la serie\n",
    "$$\n",
    "e \\approx \\sum_{n=0}^{10} \\frac{1}{n!}.\n",
    "$$\n",
    "\n",
    "Comparar el resultado de cada estrategia con el valor real con el valor real (recordar que existe `np.e`)."
   ]
  },
  {
   "cell_type": "code",
   "execution_count": 40,
   "metadata": {},
   "outputs": [
    {
     "name": "stdout",
     "output_type": "stream",
     "text": [
      "2.7182815255731922\n",
      "2.718281828459045\n",
      "diferencia al reves: 3.0288585284310443e-07\n",
      "2.7182815255731922\n",
      "2.718281828459045\n",
      "diferencia: 3.0288585284310443e-07\n"
     ]
    }
   ],
   "source": [
    "\n",
    "import math\n",
    "sum_e = 0\n",
    "for i in reversed(range(10)):\n",
    "    sum_e += 1/math.factorial(i)\n",
    "print(sum_e)\n",
    "print(np.e)\n",
    "print(f\"diferencia al reves: {np.e - sum_e}\")\n",
    "\n",
    "sum_e = 0\n",
    "for i in range(10):\n",
    "    sum_e += 1/math.factorial(i)\n",
    "print(sum_e)\n",
    "print(np.e)\n",
    "print(f\"diferencia: {np.e - sum_e}\")\n",
    "\n"
   ]
  },
  {
   "cell_type": "markdown",
   "metadata": {},
   "source": [
    "3. El siguiente código suma 1 $10^8$ veces. ¿Coincide la respuesta con el valor esperado? ¿Es posible modificar el código para calcular el valor correcto?"
   ]
  },
  {
   "cell_type": "code",
   "execution_count": 45,
   "metadata": {},
   "outputs": [
    {
     "name": "stdout",
     "output_type": "stream",
     "text": [
      "Suma en float32: 16777216.0\n",
      "Suma en float32: 16777216.0\n",
      "Suma en float64: 100000000.0\n"
     ]
    }
   ],
   "source": [
    "c = np.float32(0.0)\n",
    "for i in range(10**8):\n",
    "    c += np.float32(1)\n",
    "print(f\"Suma en float32: {c}\")\n",
    "\n",
    "# Modificacion :D\n",
    "c = np.float64(0.0)\n",
    "for i in range(10**8):\n",
    "    c += np.float64(1)\n",
    "print(f\"Suma en float64: {c}\")\n"
   ]
  },
  {
   "cell_type": "markdown",
   "metadata": {},
   "source": [
    "# Características del `float64`"
   ]
  },
  {
   "cell_type": "code",
   "execution_count": 44,
   "metadata": {},
   "outputs": [
    {
     "name": "stdout",
     "output_type": "stream",
     "text": [
      "Máximo número flotante que puede representar Python:  1.7976931348623157e+308 \n",
      "\n",
      "Mínimo flotante positivo [normalizado] que puede representar Python:  2.2250738585072014e-308 \n",
      "\n",
      "Mínimo flotante positivo [subnormal] que puede representar Python:  5e-324 \n",
      "\n",
      "Epsilon de máquina:  2.220446049250313e-16\n"
     ]
    }
   ],
   "source": [
    "# Máximo número flotante que puede representar Python:\n",
    "print('Máximo número flotante que puede representar Python: ', np.finfo(float).max, '\\n')\n",
    "\n",
    "# Mínimo flotante positivo normalizado que puede representar Python:\n",
    "print('Mínimo flotante positivo [normalizado] que puede representar Python: ', np.finfo(float).tiny, '\\n')\n",
    "\n",
    "# Mínimo flotante positivo [subnormal] que puede representar Python:\n",
    "print('Mínimo flotante positivo [subnormal] que puede representar Python: ', np.nextafter(0., 1.), '\\n')\n",
    "\n",
    "# Epsilon de máquina\n",
    "print('Epsilon de máquina: ', np.finfo(float).eps)"
   ]
  },
  {
   "cell_type": "code",
   "execution_count": 13,
   "metadata": {},
   "outputs": [
    {
     "name": "stdout",
     "output_type": "stream",
     "text": [
      "1 + ε = 1.0000000000000002\n",
      "1 + ε/2 = 1.0 \n",
      "\n",
      "¿1 + ε = 1? False\n",
      "¿1 + ε/2 = 1? True\n"
     ]
    }
   ],
   "source": [
    "# Veamos que efectivamente el épsilon de máquina es el número de máquina más chico tal que 1 + eps es distinto de 1\n",
    "\n",
    "eps = np.finfo(np.double).eps\n",
    "print('1 + ε =', 1 + eps)\n",
    "print('1 + ε/2 =', 1 + eps/2,'\\n')\n",
    "\n",
    "print('¿1 + ε = 1?', 1 + eps == 1)\n",
    "print('¿1 + ε/2 = 1?', 1 + eps/2 == 1)"
   ]
  },
  {
   "cell_type": "markdown",
   "metadata": {},
   "source": [
    "## Volviendo al 0.1\n",
    "\n",
    "Vamos a explorar un poco más en detalle cómo representa la máquina al inocente 0.1, y de paso familiarizarnos con algunas funciones de `numpy` más."
   ]
  },
  {
   "cell_type": "code",
   "execution_count": 14,
   "metadata": {},
   "outputs": [
    {
     "name": "stdout",
     "output_type": "stream",
     "text": [
      "0.1\n",
      "0.10000000149011612\n"
     ]
    }
   ],
   "source": [
    "print(0.1)\n",
    "print(f\"{np.single(0.1):.17f}\") # muestro 17 lugares después de la coma\n",
    "# format(0.1,'.17f') # hace lo mimso que lo de arriba"
   ]
  },
  {
   "cell_type": "code",
   "execution_count": 50,
   "metadata": {},
   "outputs": [
    {
     "name": "stdout",
     "output_type": "stream",
     "text": [
      "0.1 + 0.2 = 0.10000000000000001 + 0.20000000000000001 = 0.30000000000000004\n",
      "0.3 = 0.29999999999999999\n"
     ]
    }
   ],
   "source": [
    "# Si lo representamos con mayor número de decimales, vemos que 0.3 y 0.1+0.2 no son lo mismo\n",
    "print(f\"0.1 + 0.2 = {0.1:.17f} + {0.2:.17f} = {0.1+0.2:.17f}\") \n",
    "print(f\"0.3 = {0.3:.17f}\")"
   ]
  },
  {
   "cell_type": "markdown",
   "metadata": {},
   "source": [
    "¿Qué entiende la máquina por 0.1?"
   ]
  },
  {
   "cell_type": "code",
   "execution_count": 16,
   "metadata": {},
   "outputs": [
    {
     "data": {
      "text/plain": [
       "(np.float32(0.8), np.int32(-3))"
      ]
     },
     "execution_count": 16,
     "metadata": {},
     "output_type": "execute_result"
    }
   ],
   "source": [
    "# Esto devuelve la mantissa como un valor entre -1 y 1 y el exponente del 2 (formato amigable)\n",
    "np.frexp(np.single(0.1))"
   ]
  },
  {
   "cell_type": "code",
   "execution_count": 17,
   "metadata": {},
   "outputs": [
    {
     "data": {
      "text/plain": [
       "np.float64(0.10000000149011612)"
      ]
     },
     "execution_count": 17,
     "metadata": {},
     "output_type": "execute_result"
    }
   ],
   "source": [
    "# Chequeo\n",
    "mantissa, exp = np.frexp(np.single(0.1))\n",
    "mantissa * 2.**exp"
   ]
  },
  {
   "cell_type": "markdown",
   "metadata": {},
   "source": [
    "Si les hace ruido que el $0.8$ no está en binario, ¡bien! Lo que pasa es que, en realidad, el 0,8 es 0,[tira de 24 1s y 0s]. Si pedimos que lo represente explicitamente:"
   ]
  },
  {
   "cell_type": "code",
   "execution_count": 51,
   "metadata": {},
   "outputs": [
    {
     "name": "stdout",
     "output_type": "stream",
     "text": [
      "Mantissa guardada:\n"
     ]
    },
    {
     "data": {
      "text/plain": [
       "'110011001100110011001101'"
      ]
     },
     "execution_count": 51,
     "metadata": {},
     "output_type": "execute_result"
    }
   ],
   "source": [
    "mantissa_maquina = mantissa*(2**24) # corro la coma 24 lugares \n",
    "\n",
    "print('Mantissa guardada:')\n",
    "f\"{int(mantissa_maquina):b}\" # muestro en binario\n"
   ]
  },
  {
   "cell_type": "markdown",
   "metadata": {},
   "source": [
    "Aunque en verdad, verdad, no guarda $0,8 . 2^{-3}$ si no $1,6 . 2^{-4}$,\n",
    "\n",
    "donde el $1$ se asume y lo que se guarda es el $0,6$ en binario con 23 dígitos.\n",
    "\n",
    "O sea que el primer 1 de arriba no se guarda"
   ]
  },
  {
   "cell_type": "code",
   "execution_count": 19,
   "metadata": {},
   "outputs": [
    {
     "name": "stdout",
     "output_type": "stream",
     "text": [
      "Mantissa guardada de verdad:\n"
     ]
    },
    {
     "data": {
      "text/plain": [
       "'10011001100110011001101'"
      ]
     },
     "execution_count": 19,
     "metadata": {},
     "output_type": "execute_result"
    }
   ],
   "source": [
    "print('Mantissa guardada de verdad:')\n",
    "f\"{int(mantissa_maquina):b}\"[1:] # muestro en binario"
   ]
  },
  {
   "cell_type": "markdown",
   "metadata": {},
   "source": [
    "# Jugando con `float16`"
   ]
  },
  {
   "cell_type": "markdown",
   "metadata": {},
   "source": [
    "`np.float16` es una versión de punto flotante de 16 bits. \n",
    "\n",
    "Se usa 1 bit para el signo, 5 para el exponente y 10 para la mantissa (que recordando el truco del 1 que vimos para `float64`,  puedo emplear 11 digitos signficativos)"
   ]
  },
  {
   "cell_type": "code",
   "execution_count": 52,
   "metadata": {},
   "outputs": [
    {
     "name": "stdout",
     "output_type": "stream",
     "text": [
      "Máximo número flotante que puede representar en float16:  65500.0 \n",
      "\n",
      "Mínimo flotante positivo [normalizado] que puede representar en float16:  6.104e-05 \n",
      "\n",
      "Mínimo flotante positivo [subnormal] que puede representar en float16:  6e-08 \n",
      "\n",
      "Epsilon de máquina:  0.000977\n"
     ]
    }
   ],
   "source": [
    "# Máximo número flotante que puede representar en float16:\n",
    "print('Máximo número flotante que puede representar en float16: ', np.finfo(np.float16).max, '\\n')\n",
    "\n",
    "# Mínimo flotante positivo normalizado que puede representar en float16:\n",
    "print('Mínimo flotante positivo [normalizado] que puede representar en float16: ', np.finfo(np.float16).tiny, '\\n')\n",
    "\n",
    "# Mínimo flotante positivo [subnormal] que puede representar en float16:\n",
    "print('Mínimo flotante positivo [subnormal] que puede representar en float16: ', np.nextafter(np.float16(0.), np.float16(1.)), '\\n')\n",
    "\n",
    "# Epsilon de máquina\n",
    "print('Epsilon de máquina: ', np.finfo(np.float16).eps)"
   ]
  },
  {
   "cell_type": "markdown",
   "metadata": {},
   "source": [
    "Fijense que la precisión es del orden de 0.001. Así que es parecido a trabajar con base 10 y mantissa de 3 digitos"
   ]
  },
  {
   "cell_type": "code",
   "execution_count": 56,
   "metadata": {},
   "outputs": [
    {
     "data": {
      "text/plain": [
       "np.float16(1.001)"
      ]
     },
     "execution_count": 56,
     "metadata": {},
     "output_type": "execute_result"
    }
   ],
   "source": [
    "np.nextafter(np.float16(1),np.float16(2))"
   ]
  },
  {
   "cell_type": "markdown",
   "metadata": {},
   "source": [
    "A partir de $2^{10} = 1024$ y hasta $2^{11} = 2048$ los números que puedo representar son los enteros"
   ]
  },
  {
   "cell_type": "code",
   "execution_count": 57,
   "metadata": {},
   "outputs": [
    {
     "name": "stdout",
     "output_type": "stream",
     "text": [
      "El siguiente a 1024 es: \n"
     ]
    },
    {
     "data": {
      "text/plain": [
       "np.float16(1025.0)"
      ]
     },
     "execution_count": 57,
     "metadata": {},
     "output_type": "execute_result"
    }
   ],
   "source": [
    "print(\"El siguiente a 1024 es: \")\n",
    "np.nextafter(np.float16(1024),np.float16(2000))"
   ]
  },
  {
   "cell_type": "markdown",
   "metadata": {},
   "source": [
    "A partir de $2^{11} = 2048$ ya sólo tengo números pares"
   ]
  },
  {
   "cell_type": "code",
   "execution_count": 23,
   "metadata": {},
   "outputs": [
    {
     "name": "stdout",
     "output_type": "stream",
     "text": [
      "El siguiente a 2048 es: \n"
     ]
    },
    {
     "data": {
      "text/plain": [
       "np.float16(2050.0)"
      ]
     },
     "execution_count": 23,
     "metadata": {},
     "output_type": "execute_result"
    }
   ],
   "source": [
    "print(\"El siguiente a 2048 es: \")\n",
    "np.nextafter(np.float16(2048),np.float16(2050))"
   ]
  },
  {
   "cell_type": "markdown",
   "metadata": {},
   "source": [
    "### Algunos problemas con la representación de 16 bits\n"
   ]
  },
  {
   "cell_type": "code",
   "execution_count": 61,
   "metadata": {},
   "outputs": [
    {
     "name": "stdout",
     "output_type": "stream",
     "text": [
      "2048.0 + 1.0 = 2048.0\n",
      "True\n"
     ]
    }
   ],
   "source": [
    "# Problema 1: sumar dos números muy distintos en magnitud hace que el más chico sea ignorado\n",
    "x = np.float16(2048)\n",
    "y = np.float16(1)\n",
    "print(f'{x} + {y} = {x + y}')\n",
    "print(x + y == x)"
   ]
  },
  {
   "cell_type": "code",
   "execution_count": 62,
   "metadata": {},
   "outputs": [
    {
     "data": {
      "text/plain": [
       "np.float16(2048.0)"
      ]
     },
     "execution_count": 62,
     "metadata": {},
     "output_type": "execute_result"
    }
   ],
   "source": [
    "# Problema 1': lo mismo puede pasar si sumamos muchos números chicos\n",
    "# Acá hago 1 + 1 + 1 + ... 3000 veces\n",
    "s =  np.float16(0)\n",
    "for i in range(3000):\n",
    "    s += np.float16(1)\n",
    "s"
   ]
  },
  {
   "cell_type": "code",
   "execution_count": 63,
   "metadata": {},
   "outputs": [
    {
     "name": "stdout",
     "output_type": "stream",
     "text": [
      "Suma de los primeros 200 terminos de 1/n : 5.86328125\n",
      "Suma de los primeros 400 terminos de 1/n : 6.64453125\n",
      "Suma de los primeros 600 terminos de 1/n : 7.0859375\n",
      "Suma de los primeros 800 terminos de 1/n : 7.0859375\n",
      "Suma de los primeros 1000 terminos de 1/n : 7.0859375\n"
     ]
    },
    {
     "data": {
      "text/plain": [
       "'Conclusión: la serie armonica converge a 7.0859375 :('"
      ]
     },
     "execution_count": 63,
     "metadata": {},
     "output_type": "execute_result"
    }
   ],
   "source": [
    "# Problema 1'': también si sumamos cosas cada vez más chiquitas\n",
    "\n",
    "# Hago un doble for para calcular las sumas parciales de 1/n hasta distintos valores\n",
    "for n in range(200,1001,200):\n",
    "    s =  np.float16(0)\n",
    "    for i in range(1,n):\n",
    "        s += np.float16(1/i)\n",
    "    print(f'Suma de los primeros {n} terminos de 1/n : {s}')\n",
    "f'Conclusión: la serie armonica converge a {s} :('"
   ]
  },
  {
   "cell_type": "code",
   "execution_count": 27,
   "metadata": {},
   "outputs": [
    {
     "name": "stdout",
     "output_type": "stream",
     "text": [
      "Cuenta bien: 256.22 - 256.02 = 0.20\n",
      "En float16: 256.25 - 256.0 = 0.25\n",
      "Errror =  0.05005\n",
      "Error relativo = 0.05/0.20 = 25%\n"
     ]
    }
   ],
   "source": [
    "# Problema 2: restar dos números muy parecidos genera cancelaciones catastróficas \n",
    "x = 256.22\n",
    "y = 256.02\n",
    "flx = np.float16(x)\n",
    "fly = np.float16(y)\n",
    "\n",
    "print(f'Cuenta bien: {x} - {y} = {x - y:.2f}')\n",
    "print(f'En float16: {flx} - {fly} = {flx - fly}')\n",
    "\n",
    "error = np.float16(abs((x-y)-(flx-fly)))\n",
    "print('Error = ',error)\n",
    "print(f'Error relativo = {error:.2f}/{(x-y):.2f} = {error/(x-y):.0%}')"
   ]
  }
 ],
 "metadata": {
  "kernelspec": {
   "display_name": "alc",
   "language": "python",
   "name": "python3"
  },
  "language_info": {
   "codemirror_mode": {
    "name": "ipython",
    "version": 3
   },
   "file_extension": ".py",
   "mimetype": "text/x-python",
   "name": "python",
   "nbconvert_exporter": "python",
   "pygments_lexer": "ipython3",
   "version": "3.13.2"
  }
 },
 "nbformat": 4,
 "nbformat_minor": 4
}
