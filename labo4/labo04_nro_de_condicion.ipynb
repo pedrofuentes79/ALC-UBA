{
 "cells": [
  {
   "cell_type": "markdown",
   "metadata": {
    "id": "Kq98NiDqWK-l"
   },
   "source": [
    "# **Laboratorio N°5: Número de Condición**\n"
   ]
  },
  {
   "cell_type": "code",
   "execution_count": 9,
   "metadata": {
    "id": "6atTtblVBdyJ"
   },
   "outputs": [],
   "source": [
    "import numpy as np\n",
    "import matplotlib.pyplot as plt\n",
    "from numpy.linalg import cond"
   ]
  },
  {
   "cell_type": "markdown",
   "metadata": {
    "id": "FZ4ubXwRWkxS"
   },
   "source": [
    "## Ejercicio 1"
   ]
  },
  {
   "cell_type": "markdown",
   "metadata": {
    "id": "g2c9AtS1miT3"
   },
   "source": [
    "En este ejercicio vamos a probar o refutar algunas propiedades sobre el numero de condicion.\n",
    "En cada item tendremos un propiedad que puede ser verdadera o falsa.\n",
    " - En caso de ser verdadera: dar su demostracion.\n",
    " - En caso de ser falsa: utilizar numpy para dar un contraejemplo.\n",
    "\n",
    "Utilizar el comando `np.linalg.cond`."
   ]
  },
  {
   "cell_type": "markdown",
   "metadata": {
    "id": "A-372eKMoxfv"
   },
   "source": [
    "**(a)** $Cond_2(A)$ + $Cond_2(B)$ = $Cond_2(A+B)$"
   ]
  },
  {
   "cell_type": "code",
   "execution_count": 11,
   "metadata": {
    "id": "Yv2s8jG8mLCf"
   },
   "outputs": [
    {
     "name": "stdout",
     "output_type": "stream",
     "text": [
      "False\n"
     ]
    }
   ],
   "source": [
    "A = np.array([[1, 2], [3, 4]])\n",
    "B = np.array([[5, 6], [7, 8]])\n",
    "print(cond(A, 2) + cond(B, 2) == cond(A + B, 2))"
   ]
  },
  {
   "cell_type": "markdown",
   "metadata": {
    "id": "QwSNVeEdrQpB"
   },
   "source": [
    "**(b)** $Cond_1(A)$ - $Cond_1(B)$ = $Cond_2(A-B)$"
   ]
  },
  {
   "cell_type": "code",
   "execution_count": 12,
   "metadata": {
    "id": "47LDxl3IrXaP"
   },
   "outputs": [
    {
     "name": "stdout",
     "output_type": "stream",
     "text": [
      "False\n"
     ]
    }
   ],
   "source": [
    "print(cond(A, 1) - cond(B, 1) == cond(A - B, 2))\n"
   ]
  },
  {
   "cell_type": "markdown",
   "metadata": {
    "id": "0t1kpuIerYgi"
   },
   "source": [
    "**(c)** $Cond_2(A)$ * $Cond_2(B)$ = $Cond_2(A.B)$"
   ]
  },
  {
   "cell_type": "code",
   "execution_count": 14,
   "metadata": {
    "id": "4HB6oTEcrhdf"
   },
   "outputs": [
    {
     "name": "stdout",
     "output_type": "stream",
     "text": [
      "False\n"
     ]
    }
   ],
   "source": [
    "print(cond(A, 2) * cond(B, 2) == cond(A @ B, 2))"
   ]
  },
  {
   "cell_type": "markdown",
   "metadata": {
    "id": "IUuL-FA3WiT9"
   },
   "source": [
    "## Ejercicio 2"
   ]
  },
  {
   "cell_type": "markdown",
   "metadata": {
    "id": "8d_oakt6WyjI"
   },
   "source": [
    "El objetivo de este ejercicio es estudiar el número de condición de\n",
    "algunas matrices a medida que su tamaño aumenta.\n"
   ]
  },
  {
   "cell_type": "markdown",
   "metadata": {
    "id": "mtcF4XEcWw2X"
   },
   "source": [
    "\n",
    "**(a)** Programar funciones que, dado $n \\in \\mathbb{N}$, devuelvan las siguientes matrices de $\\mathbb{R}^{n\\times n}$. La función que define $B_n$ ya viene dada."
   ]
  },
  {
   "cell_type": "markdown",
   "metadata": {
    "id": "b_WTw5VmMcXY"
   },
   "source": [
    "\n",
    "\\begin{equation*}\n",
    "A_n=\n",
    "\\begin{pmatrix}\n",
    "\\frac{1}{n} & 0 & 0 & \\cdots  & n^2\\\\\n",
    "0 & \\frac{1}{n} & 0 & \\cdots & 0 \\\\\n",
    "0 & 0 & \\frac{1}{n} & \\cdots & 0\\\\\n",
    "\\vdots & \\vdots & \\vdots  & \\ddots & \\vdots\\\\\n",
    "1 & 0 & 0 & \\cdots &  \\frac{1}{n}\\\\\n",
    "\\end{pmatrix}\n",
    "\\qquad\n",
    "B_n=\n",
    "\\begin{pmatrix}\n",
    "4 & 1 & 0 & \\cdots & 0 & 0\\\\\n",
    "1 & 4 & 1 & \\cdots & 0 & 0 \\\\\n",
    "0 & 1 & 4 & \\ddots &  & \\vdots\\\\\n",
    "\\vdots & \\vdots & \\ddots & \\ddots & \\ddots & \\vdots \\\\\n",
    "0 & 0 &  & \\ddots & 4 & 1\\\\\n",
    "0 & 0 & \\cdots & \\cdots & 1 & 4 \\\\\n",
    "\\end{pmatrix}\n",
    "\\qquad\n",
    "H_n=\n",
    "\\begin{pmatrix}\n",
    "1 & \\frac{1}{2} & \\frac{1}{3} & \\cdots  & \\frac{1}{n}\\\\\n",
    "\\frac{1}{2} & \\frac{1}{3} & \\frac{1}{4} & \\cdots & \\frac{1}{n+1} \\\\\n",
    "\\frac{1}{3} & \\frac{1}{4} & \\frac{1}{5} & \\cdots & \\frac{1}{n+2}\\\\\n",
    "\\vdots & \\vdots & \\vdots  & \\ddots & \\vdots\\\\\n",
    "\\frac{1}{n} & \\frac{1}{n+1} & \\frac{1}{n+2} & \\cdots &  \\frac{1}{2n-1}\\\\\n",
    "\\end{pmatrix}\n",
    "\\end{equation*}\n",
    "\n"
   ]
  },
  {
   "cell_type": "markdown",
   "metadata": {
    "id": "xtdPNSyPW1VA"
   },
   "source": [
    "**Sugerencia:** Utilizar la función `np.diag` que recibe un array de números y genera una matriz diagonal con elementos dados por el array.\n",
    "\n",
    "\n"
   ]
  },
  {
   "cell_type": "code",
   "execution_count": 57,
   "metadata": {
    "id": "k6zUVVx1TFIK"
   },
   "outputs": [],
   "source": [
    "def matriz_B(n):\n",
    "  B = np.eye(n, k=-1) + 4*np.eye(n, k=0) + np.eye(n, k=1)\n",
    "  return B\n",
    "\n",
    "def matriz_A(n):\n",
    "  A = np.diag(np.repeat(np.divide(1,n), n))\n",
    "  A[0][n-1] = np.square(n)\n",
    "  A[n-1][0] = 1\n",
    "  return A\n",
    "\n",
    "def matriz_h_ez(n):\n",
    "  res = np.zeros((n,n))\n",
    "  for current_start_denominator in range(1,n+1):\n",
    "    row = 1 / np.arange(current_start_denominator, n+current_start_denominator)\n",
    "    res[current_start_denominator-1] = row\n",
    "\n",
    "  return res\n",
    "\n",
    "def matriz_h(n):\n",
    "  # las pongo como columna\n",
    "  rows = np.arange(1, n+1).reshape(n,-1)\n",
    "  cols = np.arange(1, n+1)\n",
    "  denominators = rows + cols - 1\n",
    "  return 1 / denominators\n",
    "\n"
   ]
  },
  {
   "cell_type": "markdown",
   "metadata": {
    "id": "7eEfvH42XDN6"
   },
   "source": [
    "**(b)** Graficar para 100 vectores **unitarios** (en norma 2), $v\\in\\mathbb{R^2}$, $\\; A_2v,\\ B_2v,\\ H_2v$"
   ]
  },
  {
   "cell_type": "code",
   "execution_count": 62,
   "metadata": {
    "id": "a9PLSevGBdyP"
   },
   "outputs": [
    {
     "data": {
      "text/plain": [
       "<matplotlib.legend.Legend at 0x75085152c6b0>"
      ]
     },
     "execution_count": 62,
     "metadata": {},
     "output_type": "execute_result"
    },
    {
     "data": {
      "image/png": "[encoded data removed]",
      "text/plain": [
       "<Figure size 640x480 with 1 Axes>"
      ]
     },
     "metadata": {},
     "output_type": "display_data"
    }
   ],
   "source": [
    "A = matriz_A(2)\n",
    "B = matriz_B(2)\n",
    "H = matriz_h(2)\n",
    "\n",
    "V = np.random.rand(2, 100) - 0.5\n",
    "\n",
    "# Divido por su norma2 para que sean unitarios\n",
    "V = V / (np.linalg.norm(V))\n",
    "# me aseguro de que sean de norma 1\n",
    "assert np.allclose(np.linalg.norm(V), np.ones(len(V)))\n",
    "\n",
    "AV = A @ V\n",
    "BV = B @ V\n",
    "HV = H @ V\n",
    "\n",
    "plt.scatter(V[0], V[1], label = \"v\")\n",
    "plt.scatter(AV[0], AV[1], label= \"Av\")\n",
    "plt.scatter(BV[0], BV[1], label = \"Bv\")\n",
    "plt.scatter(HV[0], HV[1], label = \"Hv\")\n",
    "plt.legend()\n"
   ]
  },
  {
   "cell_type": "markdown",
   "metadata": {
    "id": "Md7M-6jCBdyR"
   },
   "source": [
    "**(c)** Programar una función que, dada una matriz $M_n$ y un número natural $N$, guarde en un vector el valor de $Cond_2(M_n)$ para $1\\leq n \\leq N$."
   ]
  },
  {
   "cell_type": "code",
   "execution_count": 64,
   "metadata": {
    "id": "34JfYEu3XdNy"
   },
   "outputs": [],
   "source": [
    "def vector_condicion(M: callable, N: int):\n",
    "  return np.array([cond(M(n), 2) for n in range(1, N + 1)])\n"
   ]
  },
  {
   "cell_type": "markdown",
   "metadata": {
    "id": "9Ehr99OvXyy_"
   },
   "source": [
    "**(d)** Realizar gráficos del número de condición en norma 2 de las matrices definidas arriba para $N=10$.\n"
   ]
  },
  {
   "cell_type": "code",
   "execution_count": 67,
   "metadata": {
    "id": "iHmlrA7sZf-n"
   },
   "outputs": [
    {
     "data": {
      "image/png": "[encoded data removed]",
      "text/plain": [
       "<Figure size 640x480 with 1 Axes>"
      ]
     },
     "metadata": {},
     "output_type": "display_data"
    }
   ],
   "source": [
    "conds_A = vector_condicion(matriz_A, 10)\n",
    "conds_B = vector_condicion(matriz_B, 10)\n",
    "conds_H = vector_condicion(matriz_h, 10)\n",
    "\n",
    "x = np.arange(1, 11)\n",
    "y_A = conds_A\n",
    "y_B = conds_B\n",
    "y_H = conds_H\n",
    "\n",
    "plt.plot(x, y_A, label=\"A\")\n",
    "plt.plot(x, y_B, label=\"B\")\n",
    "plt.plot(x, y_H, label=\"H\")\n",
    "plt.yscale('log')\n",
    "plt.legend()\n",
    "plt.show()"
   ]
  },
  {
   "cell_type": "markdown",
   "metadata": {
    "id": "eZaokS9SaAuA"
   },
   "source": [
    "**Sugerencia:** Si es necesario, utilizar una escala logarítmica en el eje $y$."
   ]
  },
  {
   "cell_type": "markdown",
   "metadata": {
    "id": "fpFKeooJafn3"
   },
   "source": [
    "**(e)** Repetir el ítem (d) para la matriz de Hilbert con $N=50$. ¿Cómo se explica el comportamiento observado?"
   ]
  },
  {
   "cell_type": "code",
   "execution_count": 68,
   "metadata": {
    "id": "XARk-RBZcvqG"
   },
   "outputs": [
    {
     "data": {
      "image/png": "[encoded data removed]",
      "text/plain": [
       "<Figure size 640x480 with 1 Axes>"
      ]
     },
     "metadata": {},
     "output_type": "display_data"
    }
   ],
   "source": [
    "conds = vector_condicion(matriz_h, 50)\n",
    "x = np.arange(1, 51)\n",
    "y = conds\n",
    "plt.plot(x, y)\n",
    "plt.yscale('log')\n",
    "plt.show()"
   ]
  },
  {
   "cell_type": "markdown",
   "metadata": {},
   "source": [
    "Esto sucede porque los valores son muy grandes. Ademas, el calculo de la inversa de la matriz puede resultar erroneo al ser matrices tan grandes y con valores tan pequeños."
   ]
  },
  {
   "cell_type": "markdown",
   "metadata": {
    "id": "bmaVGeUleqwI"
   },
   "source": [
    "## Ejercicio 3 (Ej 20 - Práctica 2)"
   ]
  },
  {
   "cell_type": "markdown",
   "metadata": {
    "id": "P4mH1SW6fmBb"
   },
   "source": [
    "Sea\n",
    "$A=\\left(\n",
    "\\begin{array}{ccc}\n",
    "3&0 & 0\\\\\n",
    "0& \\frac 54 & \\frac 34\\\\\n",
    "0& \\frac 34 & \\frac 54\\\\\n",
    "\\end{array}\n",
    "\\right).$\n",
    "\n"
   ]
  },
  {
   "cell_type": "code",
   "execution_count": 69,
   "metadata": {
    "id": "-0sjdy5Ml4k_"
   },
   "outputs": [],
   "source": [
    "A = np.array([[3.0, 0, 0], [0, 5/4, 3/4], [0, 3/4, 5/4]])"
   ]
  },
  {
   "cell_type": "markdown",
   "metadata": {
    "id": "M-TFe8n7gMXJ"
   },
   "source": [
    "(a) Calcular $Cond_\\infty(A)$.\n"
   ]
  },
  {
   "cell_type": "code",
   "execution_count": 71,
   "metadata": {
    "id": "k5jQ_Wz-l2I2"
   },
   "outputs": [
    {
     "name": "stdout",
     "output_type": "stream",
     "text": [
      "6.0\n"
     ]
    }
   ],
   "source": [
    "#COMPLETAR\n",
    "print(cond(A, np.inf))"
   ]
  },
  {
   "cell_type": "markdown",
   "metadata": {
    "id": "jlUl52wZgPjD"
   },
   "source": [
    "(b) ¿Cuán chico debe ser el error relativo en los datos, $\\frac{\\|b-\\tilde{b}\\|}{\\|b\\|}$, si se desea que el error relativo en la aproximación de la solución, $\\frac{\\|x-\\tilde{x}\\|}{\\|x\\|}, $ sea menor que $10^{-4}$ (en $\\|\\cdot\\|_{\\infty}$)?\n",
    "\n"
   ]
  },
  {
   "cell_type": "markdown",
   "metadata": {},
   "source": [
    "Sé por propiedad que:\n",
    " \n",
    " $$\\frac{\\|x-\\tilde{x}\\|}{\\|x\\|} \\leq \\frac{\\|b-\\tilde{b}\\|}{\\|b\\|} \\cdot Cond_{\\infty}(A)$$\n",
    "\n",
    "Tomando $Cond_{\\infty}(A) = 6$, que es el resultado obtenido, vemos que\n",
    "\n",
    "$$\\frac{\\|x-\\tilde{x}\\|}{\\|x\\|} \\leq \\frac{\\|b-\\tilde{b}\\|}{\\|b\\|} \\cdot 6 \\lt 10^{-4}$$\n",
    "\n",
    "Finalmente\n",
    "\n",
    "$$\\frac{\\|x-\\tilde{x}\\|}{\\|x\\|} \\leq \\frac{\\|b-\\tilde{b}\\|}{\\|b\\|} \\lt \\frac{1}{6} \\cdot 10^{-4}$$"
   ]
  },
  {
   "cell_type": "markdown",
   "metadata": {
    "id": "2wRP31mSgQ5c"
   },
   "source": [
    "(c) Realizar experimentos numéricos para verificar las estimaciones del ítem anterior. Considerar $b=(3,2,2)^t$, que se corresponde con la solución exacta $x=(1,1,1)^t$. Generar vectores de error aleatorios, normalizarlos para que su norma sea tan chica como la estimada en el item anterior y perturbar $b$ obteniendo $\\tilde{b}$. Finalmente, resolver $A\\tilde{x}=\\tilde{b}$ y verificar que $\\|\\tilde{x}-x\\|<10^{-4}$."
   ]
  },
  {
   "cell_type": "code",
   "execution_count": 84,
   "metadata": {
    "id": "5nggErzxl3In"
   },
   "outputs": [],
   "source": [
    "#COMPLETAR\n",
    "b = np.array([3, 2, 2]).reshape(3, 1)\n",
    "x = np.array([1, 1, 1]).reshape(3, 1)\n",
    "error_relativo = 1e-4\n",
    "\n",
    "vectores_error = np.random.rand(3, 100) - 0.5 # para centrarlos en 0\n",
    "\n",
    "# normalizarlos para que su norma sea 10^-4\n",
    "vectores_error = vectores_error / np.linalg.norm(vectores_error, np.inf) * 1e-4\n",
    "\n",
    "for vector_error in vectores_error:\n",
    "  b_perturbado = b + vector_error\n",
    "  x_perturbado = np.linalg.solve(A, b_perturbado)\n",
    "  error_relativo_x = np.linalg.norm(x_perturbado - x, np.inf) / np.linalg.norm(x, np.inf)\n",
    "  assert error_relativo_x < error_relativo\n"
   ]
  },
  {
   "cell_type": "code",
   "execution_count": null,
   "metadata": {},
   "outputs": [],
   "source": []
  }
 ],
 "metadata": {
  "colab": {
   "provenance": []
  },
  "kernelspec": {
   "display_name": "alc",
   "language": "python",
   "name": "python3"
  },
  "language_info": {
   "codemirror_mode": {
    "name": "ipython",
    "version": 3
   },
   "file_extension": ".py",
   "mimetype": "text/x-python",
   "name": "python",
   "nbconvert_exporter": "python",
   "pygments_lexer": "ipython3",
   "version": "3.12.3"
  }
 },
 "nbformat": 4,
 "nbformat_minor": 4
}
